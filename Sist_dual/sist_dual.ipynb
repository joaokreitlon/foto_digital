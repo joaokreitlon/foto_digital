{
 "cells": [
  {
   "attachments": {},
   "cell_type": "markdown",
   "metadata": {},
   "source": [
    "# Mount the cameras in a convergent configuration:\n",
    "   - Set up the dual cameras in a configuration where the optical axes converge towards a common point. This convergent setup is essential for capturing images that can be used for phototriangulation.\n",
    "   - Website: N/A (Instructions only)"
   ]
  },
  {
   "attachments": {},
   "cell_type": "markdown",
   "metadata": {},
   "source": [
    "# Camera calibration:\n",
    "   - Perform camera calibration to determine intrinsic camera parameters such as focal length, principal point, and lens distortion coefficients. This step ensures accurate image measurements and helps in subsequent processing steps.\n",
    "   - OpenCV-Python Tutorials: https://docs.opencv.org/master/dc/dbb/tutorial_py_calibration.html\n"
   ]
  },
  {
   "cell_type": "code",
   "execution_count": 120,
   "metadata": {},
   "outputs": [
    {
     "name": "stdout",
     "output_type": "stream",
     "text": [
      "\n",
      " \n",
      "--------------------   CAMERA 1   --------------------\n",
      "\n",
      "The camera 1 Matrix is the following:\n",
      " [[1.18713457e+03 0.00000000e+00 2.52493572e+02]\n",
      " [0.00000000e+00 1.18908521e+03 2.07691540e+02]\n",
      " [0.00000000e+00 0.00000000e+00 1.00000000e+00]]\n",
      "\n",
      "The distortion coefficients are the following:\n",
      " [[-5.74143956e-01  5.35978896e+00  4.35487764e-03 -2.84546899e-03\n",
      "  -3.66983700e+01]] \n",
      "\n",
      " k1,k2,p1,p2,k3, in that order\n",
      "\n",
      " \n",
      "--------------------   CAMERA 2   --------------------\n",
      "\n",
      "The camera 2 Matrix is the following:\n",
      " [[1.18550643e+03 0.00000000e+00 3.34217203e+02]\n",
      " [0.00000000e+00 1.18728572e+03 2.22837815e+02]\n",
      " [0.00000000e+00 0.00000000e+00 1.00000000e+00]]\n",
      "\n",
      "The distortion coefficients are the following:\n",
      " [[-4.28091237e-01  1.73926651e-01  3.21650866e-03 -8.07866340e-04\n",
      "  -1.56390581e+00]] \n",
      "\n",
      " k1,k2,p1,p2,k3, in that order\n"
     ]
    }
   ],
   "source": [
    "import numpy as np\n",
    "import cv2 as cv\n",
    "import glob\n",
    "\n",
    "'''\n",
    "Using camera calibration tutorial avaiable in OpenCV documentation. Link: https://docs.opencv.org/4.x/dc/dbb/tutorial_py_calibration.html\n",
    "'''\n",
    "def rectify(n):\n",
    "    # termination criteria\n",
    "    criteria = (cv.TERM_CRITERIA_EPS + cv.TERM_CRITERIA_MAX_ITER, 30, 0.001)\n",
    "\n",
    "    # prepare object points, like (0,0,0), (1,0,0), (2,0,0) ....,(6,5,0)\n",
    "    objp = np.zeros((8*6,3), np.float32)\n",
    "    objp[:,:2] = np.mgrid[0:8,0:6].T.reshape(-1,2)\n",
    "\n",
    "    # Arrays to store object points and image points from all the images.\n",
    "    objpoints = [] # 3d point in real world space\n",
    "    imgpoints = [] # 2d points in image plane.\n",
    "\n",
    "    images = glob.glob(f'C://Users//joao.kreitlon//Documents//IME//2023.1//Foto_digital//Sist_dual//cam_{n}_t//*.png')\n",
    "\n",
    "    for fname in images:\n",
    "        img = cv.imread(fname)\n",
    "        gray = cv.cvtColor(img, cv.COLOR_BGR2GRAY)\n",
    "        # Find the chess board corners\n",
    "        ret, corners = cv.findChessboardCorners(gray, (8,6), None)\n",
    "        # If found, add object points, image points (after refining them)\n",
    "        if ret == True:\n",
    "            objpoints.append(objp)\n",
    "            corners2 = cv.cornerSubPix(gray,corners, (11,11), (-1,-1), criteria)\n",
    "            imgpoints.append(corners2)\n",
    "            # Draw and display the corners\n",
    "            cv.drawChessboardCorners(img, (8,6), corners2, ret)\n",
    "            cv.imshow('img', img)\n",
    "            cv.waitKey(500)\n",
    "            \n",
    "    cv.destroyAllWindows()\n",
    "\n",
    "    #Calibrating the camera:\n",
    "    ret, mtx, dist, rvecs, tvecs = cv.calibrateCamera(objpoints, imgpoints, gray.shape[::-1], None, None)\n",
    "\n",
    "    print(f'\\n \\n--------------------   CAMERA {n}   --------------------\\n')\n",
    "    print(f'The camera {n} Matrix is the following:\\n', mtx)\n",
    "    print('\\nThe distortion coefficients are the following:\\n', dist, '\\n\\n k1,k2,p1,p2,k3, in that order')\n",
    "\n",
    "\n",
    "    r_list = [list() for _ in range(3)]\n",
    "    t_list =[list() for _ in range(3)]\n",
    "\n",
    "    for i in range (len(rvecs)):\n",
    "        for j in range(len(r_list)):\n",
    "            r_list[j].append(rvecs[i][j])\n",
    "            t_list[j].append(tvecs[i][j])\n",
    "\n",
    "    x0, y0, z0 = t_list\n",
    "    phi, omega, kappa = r_list\n",
    "\n",
    "\n",
    "    cont = 0\n",
    "\n",
    "    for fname in images:\n",
    "        img = cv.imread(fname)\n",
    "        h,  w = img.shape[:2]\n",
    "        newcameramtx, roi = cv.getOptimalNewCameraMatrix(mtx, dist, (w,h), 1, (w,h))\n",
    "        \n",
    "        # undistort\n",
    "        dst = cv.undistort(img, mtx, dist, None, newcameramtx)\n",
    "        # crop the image\n",
    "        x, y, w, h = roi\n",
    "        dst = dst[y:y+h, x:x+w]\n",
    "        name = f'rectif_1//ret_{cont}.png'\n",
    "        # print(name)\n",
    "        cv.imwrite(name, dst)\n",
    "        cont += 1\n",
    "\n",
    "        rot = [omega, phi, kappa]\n",
    "        trs = [x0, y0, z0]    \n",
    "\n",
    "    return mtx, dist, trs, rot, roi\n",
    "\n",
    "cam_1, cam_2 = rectify(1), rectify(2)"
   ]
  },
  {
   "attachments": {},
   "cell_type": "markdown",
   "metadata": {},
   "source": [
    "# External Orientation Parameters\n",
    "\n",
    "POE: ($\\omega$, $\\phi$, $\\kappa$, $x$, $y$, $z$)\n",
    "\n",
    "# Rotation Matrix\n",
    "\n",
    "$$ R_{xyz} = R_x R_y R_z = \n",
    "\\begin{bmatrix} 1 & 0 & 0 \\\\ 0 & \\cos{\\omega} & -\\sin{\\omega} \\\\ 1 & \\sin{\\omega} & \\cos{\\omega}  \\end{bmatrix} \n",
    "\\begin{bmatrix} \\cos{\\phi} & 0 & \\sin{\\phi} \\\\ 0 & 1 & 0 \\\\ -\\sin{\\phi} & 0 & \\cos{\\phi}  \\end{bmatrix} \n",
    "\\begin{bmatrix} \\cos{\\kappa} & -\\sin{\\kappa} & 0 \\\\ \\sin{\\kappa} & \\cos{\\kappa} & 0 \\\\ 0 & 0 & 1  \\end{bmatrix} "
   ]
  },
  {
   "cell_type": "code",
   "execution_count": 89,
   "metadata": {},
   "outputs": [],
   "source": [
    "def sub_photo(cam,n,type):\n",
    "\n",
    "    l = [sub_array[n][0] for sub_array in cam[type]]\n",
    "\n",
    "    return l\n"
   ]
  },
  {
   "cell_type": "code",
   "execution_count": 90,
   "metadata": {},
   "outputs": [],
   "source": [
    "def rot_mtx(o,p,k):\n",
    "    \n",
    "    Ro = np.matrix([[1, 0, 0], [0, np.cos(o),-np.sin(o)], [0, np.sin(o),np.cos(o)]])\n",
    "      \n",
    "    Rp = np.matrix([[np.cos(p), 0,-np.sin(p)], [0, 1,0], [np.sin(p), 0, np.cos(p)]])\n",
    "      \n",
    "    Rk = np.matrix([[np.cos(k),np.sin(k), 0], [-np.sin(k),np.cos(k), 0], [0, 0, 1]])\n",
    "\n",
    "    M = Rk@Rp@Ro\n",
    "    return M"
   ]
  },
  {
   "attachments": {},
   "cell_type": "markdown",
   "metadata": {},
   "source": [
    "\n",
    "# Estimate system mounting parameters:\n",
    "   Determine the mounting parameters for the dual camera system. These parameters define the geometric relationship between the cameras, such as the distance between them and their relative orientation.\n",
    "# Annex A\n",
    "\n",
    "   $$ r_{C_k}^{C_{ref}}(t)= (R^m_{C_{ref}}(t))^{-1} \\left( r_{C_k}^{m}(t) - r_{C_{ref}}^m(t) \\right) $$\n",
    "\n",
    "   $$ R^{C_{ref}}_{C_{k}}(t) = R^m_{C_{ref}}(t)^{-1} \\cdot R^m_{C_{k}}(t) $$\n"
   ]
  },
  {
   "cell_type": "code",
   "execution_count": 119,
   "metadata": {},
   "outputs": [
    {
     "name": "stdout",
     "output_type": "stream",
     "text": [
      "--------------------  BORESIGHT  --------------------\n",
      "\n",
      " [[ 9.99995150e-01  3.04344646e-03 -6.61104185e-04]\n",
      " [-3.09938438e-03  9.93322144e-01 -1.15332183e-01]\n",
      " [ 3.05682101e-04  1.15333673e-01  9.93326759e-01]] \n",
      "\n",
      "--------------------  LEVER-ARM  --------------------\n",
      "\n",
      " [[-2.49285942]\n",
      " [-0.28818901]\n",
      " [ 0.16816045]] \n",
      "\n"
     ]
    }
   ],
   "source": [
    "r_m_Cref = np.vstack([sub_photo(cam_1,3,2)]).T\n",
    "R_m_Cref = rot_mtx(*sub_photo(cam_1,3,3))\n",
    "\n",
    "r_m_Ck = np.vstack([sub_photo(cam_2,3,2)]).T\n",
    "R_m_Ck = rot_mtx(*sub_photo(cam_2,3,3))\n",
    "\n",
    "# Lever-arm:\n",
    "\n",
    "r_Cref_Ck = np.linalg.inv(R_m_Cref)@(r_m_Ck-r_m_Cref) \n",
    "\n",
    "# Boresight:\n",
    "\n",
    "R_Cref_Ck = np.linalg.inv(R_m_Cref)@(R_m_Ck) \n",
    "\n",
    "print('-'*20, ' BORESIGHT ', '-'*20)\n",
    "print('\\n', R_Cref_Ck ,'\\n')\n",
    "\n",
    "print('-'*20, ' LEVER-ARM ', '-'*20)\n",
    "print('\\n', r_Cref_Ck ,'\\n')\n",
    "\n"
   ]
  },
  {
   "cell_type": "code",
   "execution_count": 116,
   "metadata": {},
   "outputs": [
    {
     "data": {
      "text/plain": [
       "matrix([[ 9.99995150e-01,  3.04344646e-03, -6.61104185e-04],\n",
       "        [-3.09938438e-03,  9.93322144e-01, -1.15332183e-01],\n",
       "        [ 3.05682101e-04,  1.15333673e-01,  9.93326759e-01]])"
      ]
     },
     "execution_count": 116,
     "metadata": {},
     "output_type": "execute_result"
    }
   ],
   "source": [
    "R_Cref_Ck"
   ]
  }
 ],
 "metadata": {
  "kernelspec": {
   "display_name": "Python 3",
   "language": "python",
   "name": "python3"
  },
  "language_info": {
   "codemirror_mode": {
    "name": "ipython",
    "version": 3
   },
   "file_extension": ".py",
   "mimetype": "text/x-python",
   "name": "python",
   "nbconvert_exporter": "python",
   "pygments_lexer": "ipython3",
   "version": "3.11.2"
  },
  "orig_nbformat": 4
 },
 "nbformat": 4,
 "nbformat_minor": 2
}
